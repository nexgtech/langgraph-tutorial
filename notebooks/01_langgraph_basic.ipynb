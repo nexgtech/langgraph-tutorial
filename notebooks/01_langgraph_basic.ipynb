{
 "cells": [
  {
   "cell_type": "markdown",
   "id": "97176a27",
   "metadata": {},
   "source": [
    "## LangGraph\n",
    "* LangGraph is a stateful, orchestration framework for complex agentic systems and is more low-level and controllable.\n",
    "* LangGraph is an MIT licensed Open-source library \n",
    "\n",
    "## LangSmith\n",
    "* It is uses to inspect, monitor and evaluate your chains, so that you can continuously optimize and deploy with confidence.\n",
    "\n",
    "\n",
    "## LangGraph Platform\n",
    "* `LangGraph platform` is service for deploying and scaling LangGraph applications, with a built-in studio for prototyping, debugging, and sharing LangGraph applications.\n",
    "* `LangGraph Platform` is proprietary software that will eventually be a paid service for certain tiers of usage."
   ]
  },
  {
   "cell_type": "markdown",
   "id": "c64f6ff3",
   "metadata": {},
   "source": [
    "What is Agent?\n",
    "Agent control flow defined by an LLM.\n",
    "\n",
    "\n",
    "* LangGraph help to build agents to maintain the application reliability even if you push out the level of control give to LLM.\n",
    "\n",
    "### LangGraph Pillars:\n",
    "* Persistence\n",
    "* Streaming\n",
    "* Human-in-the-loop\n",
    "* Controllability"
   ]
  },
  {
   "cell_type": "markdown",
   "id": "a0aa65c3",
   "metadata": {},
   "source": [
    "## 1.1 Simple Graph\n",
    "\n",
    "Create a simple graph with 3 nodes and 1 conditional edge using LangGraph.\n",
    "\n",
    "![alt text](images/simple.png)"
   ]
  },
  {
   "cell_type": "code",
   "execution_count": 1,
   "id": "3176ad09",
   "metadata": {},
   "outputs": [],
   "source": [
    "from typing import TypedDict\n",
    "\n",
    "## Define state of the graph\n",
    "class State(TypedDict):\n",
    "    graph_state: str\n",
    "\n",
    "\n",
    "## Define nodes (python funcitons). Each node operates on the state.\n",
    "def node_1(state):\n",
    "    print(\"-------Node1----------\")\n",
    "    return {\"graph_state\": state['graph_state']+\" I am\"}\n",
    "    \n",
    "def node_2(state):\n",
    "    print(\"-------Node2----------\")\n",
    "    return {\"graph_state\": state['graph_state']+\" happy!\"}\n",
    "\n",
    "def node_3(state):\n",
    "    print(\"-------Node3----------\")\n",
    "    return {\"graph_state\": state['graph_state']+\" sad!\"}"
   ]
  },
  {
   "cell_type": "markdown",
   "id": "ec76fb30",
   "metadata": {},
   "source": [
    "#### Edges\n",
    "* `Normal Edges` simply connect the nodes, if you want to always go from\n",
    "* `Conditional Edges` used to optionally route between nodes.\n",
    "* `conditional edge` is implemented as a function that returns the next node to visit based upon some logic."
   ]
  },
  {
   "cell_type": "code",
   "execution_count": null,
   "id": "ecc9f79c",
   "metadata": {},
   "outputs": [],
   "source": [
    "import random\n",
    "from typing import Literal\n",
    "\n",
    "def decide_mood(state) -> Literal[\"node_2\", \"node_3\"]:\n",
    "    \n",
    "    # use state to decide on the next node to visit\n",
    "    user_input = state[\"graph_state\"]\n",
    "\n",
    "    if random.random() < 0.5:\n",
    "\n",
    "        # 50% of time, return Node2\n",
    "        return \"node_2\"\n",
    "    \n",
    "    # 50% of time, return Node3\n",
    "    return \"node_3\""
   ]
  },
  {
   "cell_type": "markdown",
   "id": "c69409b2",
   "metadata": {},
   "source": [
    "#### Graph Construction\n",
    "* Initialize `StateGraph` with `State` class we defined above\n",
    "* Add nodes and edges\n",
    "* use `START` node that sends user input to graph, and it indicate where to start graph.\n",
    "* use `END` node that represents a terminate node\n",
    "* Compile graph to perform few basic checks about the structure of your graph."
   ]
  },
  {
   "cell_type": "code",
   "execution_count": 9,
   "id": "382c04b1",
   "metadata": {},
   "outputs": [
    {
     "data": {
      "image/png": "[encoded data removed]",
      "text/plain": [
       "<IPython.core.display.Image object>"
      ]
     },
     "metadata": {},
     "output_type": "display_data"
    }
   ],
   "source": [
    "from langgraph.graph import StateGraph, START, END\n",
    "from IPython.display import Image, display\n",
    "\n",
    "builder = StateGraph(State)\n",
    "\n",
    "# add nodes\n",
    "builder.add_node(\"node_1\", node_1)\n",
    "builder.add_node(\"node_2\", node_2)\n",
    "builder.add_node(\"node_3\", node_3)\n",
    "\n",
    "# logic\n",
    "builder.add_edge(START, \"node_1\")\n",
    "builder.add_conditional_edges(\"node_1\", decide_mood)\n",
    "builder.add_edge(\"node_2\", END)\n",
    "builder.add_edge(\"node_3\", END)\n",
    "\n",
    "# graph compile\n",
    "graph = builder.compile()\n",
    "\n",
    "# view\n",
    "display(Image(graph.get_graph().draw_mermaid_png()))"
   ]
  },
  {
   "cell_type": "markdown",
   "id": "ec14240d",
   "metadata": {},
   "source": [
    "#### Graph Invocation\n",
    "* `Compiled Graph` implements the runnable protocol\n",
    "* The `ìnvoke` is one of the standard methods in this interface.\n",
    "* The input is a dictionary `{\"graph_state\": \"Hi, this is lance.\"}`, which sets the initial value for our graph state dict.\n"
   ]
  },
  {
   "cell_type": "code",
   "execution_count": 16,
   "id": "55fd6ef0",
   "metadata": {},
   "outputs": [
    {
     "name": "stdout",
     "output_type": "stream",
     "text": [
      "-------Node1----------\n",
      "-------Node2----------\n"
     ]
    },
    {
     "data": {
      "text/plain": [
       "{'graph_state': 'Hi, this is Lance. I am happy!'}"
      ]
     },
     "execution_count": 16,
     "metadata": {},
     "output_type": "execute_result"
    }
   ],
   "source": [
    "graph.invoke({\"graph_state\": \"Hi, this is Lance.\"})"
   ]
  },
  {
   "cell_type": "markdown",
   "id": "9e5f3777",
   "metadata": {},
   "source": [
    "## 1.2 Chain\n",
    "Create a simple graph with chain of `chat messages`, `chat models`, `binding tools`, and `execute tool calls` in graph. "
   ]
  },
  {
   "cell_type": "markdown",
   "id": "ae817c69",
   "metadata": {},
   "source": [
    "### Messages\n",
    "* Chat model can use `messages`, which capture different roles within a conversation.\n",
    "* LangChain support various message types, including `HumanMessage`, `AIMessage`, `Systemmessage` and `ToolMessage`.\n",
    "* These represent a message from the user, from chat model, for the chat model to instruct behavior and from a tool call.\n",
    "* Each message can be supplied with few things:\n",
    "    * ``content`` - content of the mesage\n",
    "    * ``name`` - optionally, who is creating the message\n",
    "    * ``response_metadata`` - optionally, a dict of metadata that is often specific to each model provider "
   ]
  },
  {
   "cell_type": "code",
   "execution_count": 7,
   "id": "107466fc",
   "metadata": {},
   "outputs": [
    {
     "name": "stdout",
     "output_type": "stream",
     "text": [
      "==================================\u001b[1m Ai Message \u001b[0m==================================\n",
      "Name: model\n",
      "\n",
      "so you said you were researching ocean mammals\n",
      "================================\u001b[1m Human Message \u001b[0m=================================\n",
      "Name: Lance\n",
      "\n",
      "yes, that's right.\n",
      "==================================\u001b[1m Ai Message \u001b[0m==================================\n",
      "Name: model\n",
      "\n",
      "Great, what would you like to learn about.\n",
      "================================\u001b[1m Human Message \u001b[0m=================================\n",
      "Name: Lance\n",
      "\n",
      "I want to learn about the best place to see Orcas in US\n"
     ]
    }
   ],
   "source": [
    "from pprint import pprint\n",
    "from langchain_core.messages import AIMessage, HumanMessage, SystemMessage\n",
    "\n",
    "messages = [AIMessage(content=\"so you said you were researching ocean mammals\", name=\"model\")]\n",
    "messages.extend([HumanMessage(content=\"yes, that's right.\", name=\"Lance\")])\n",
    "messages.extend([AIMessage(content=\"Great, what would you like to learn about.\", name=\"model\")])\n",
    "messages.extend([HumanMessage(content=\"I want to learn about the best place to see Orcas in US\", name=\"Lance\")])\n",
    "\n",
    "for message in messages:\n",
    "    message.pretty_print()"
   ]
  },
  {
   "cell_type": "code",
   "execution_count": 8,
   "id": "2c489a91",
   "metadata": {},
   "outputs": [],
   "source": [
    "import os\n",
    "from dotenv import load_dotenv\n",
    "\n",
    "# Load the environment variables from .env file\n",
    "load_dotenv()\n",
    "\n",
    "# Fetch the API key\n",
    "api_key = os.getenv(\"OPENAI_API_KEY\")\n"
   ]
  },
  {
   "cell_type": "code",
   "execution_count": 9,
   "id": "209e7bbb",
   "metadata": {},
   "outputs": [
    {
     "name": "stdout",
     "output_type": "stream",
     "text": [
      "content=\"One of the best places to see orcas in the U.S. is the Pacific Northwest, particularly around the San Juan Islands in Washington State. Here are some key spots:\\n\\n1. **San Juan Islands**: This archipelago is famous for orca sightings, especially the Southern Resident orcas. Whale watching tours operate from several locations, including Friday Harbor and Roche Harbor.\\n\\n2. **Puget Sound**: Orcas can often be spotted in the waters of Puget Sound, especially during the summer months when they are more active and feeding.\\n\\n3. **Victoria, British Columbia**: While technically in Canada, it's very close to the U.S. border and is a popular spot for whale watching tours that often see orcas.\\n\\n4. **Olympic National Park**: The coastal waters around this national park can also be a good place to spot orcas, particularly from the shore or on boat tours.\\n\\n5. **Maui, Hawaii**: While not as common as in the Pacific Northwest, orcas have been spotted in Hawaiian waters, particularly during the winter months.\\n\\nIf you're planning a trip, it's best to go during the summer months (May to September) when orcas are more frequently seen in these areas.\" additional_kwargs={'refusal': None} response_metadata={'token_usage': {'completion_tokens': 248, 'prompt_tokens': 62, 'total_tokens': 310, 'completion_tokens_details': {'accepted_prediction_tokens': 0, 'audio_tokens': 0, 'reasoning_tokens': 0, 'rejected_prediction_tokens': 0}, 'prompt_tokens_details': {'audio_tokens': 0, 'cached_tokens': 0}}, 'model_name': 'gpt-4o-mini-2024-07-18', 'system_fingerprint': 'fp_54eb4bd693', 'id': 'chatcmpl-Bb73TlRaMXJowcTfWthZxCgoqttfm', 'service_tier': 'default', 'finish_reason': 'stop', 'logprobs': None} id='run--614cbccb-6393-4cfa-b456-f136596781b1-0' usage_metadata={'input_tokens': 62, 'output_tokens': 248, 'total_tokens': 310, 'input_token_details': {'audio': 0, 'cache_read': 0}, 'output_token_details': {'audio': 0, 'reasoning': 0}}\n"
     ]
    }
   ],
   "source": [
    "from langchain_openai import ChatOpenAI\n",
    "\n",
    "llm = ChatOpenAI(\n",
    "    model=\"gpt-4o-mini\",\n",
    "    temperature=0, \n",
    ")\n",
    "result = llm.invoke(messages)\n",
    "print(result)"
   ]
  },
  {
   "cell_type": "code",
   "execution_count": 10,
   "id": "8e3c505b",
   "metadata": {},
   "outputs": [
    {
     "data": {
      "text/plain": [
       "{'token_usage': {'completion_tokens': 248,\n",
       "  'prompt_tokens': 62,\n",
       "  'total_tokens': 310,\n",
       "  'completion_tokens_details': {'accepted_prediction_tokens': 0,\n",
       "   'audio_tokens': 0,\n",
       "   'reasoning_tokens': 0,\n",
       "   'rejected_prediction_tokens': 0},\n",
       "  'prompt_tokens_details': {'audio_tokens': 0, 'cached_tokens': 0}},\n",
       " 'model_name': 'gpt-4o-mini-2024-07-18',\n",
       " 'system_fingerprint': 'fp_54eb4bd693',\n",
       " 'id': 'chatcmpl-Bb73TlRaMXJowcTfWthZxCgoqttfm',\n",
       " 'service_tier': 'default',\n",
       " 'finish_reason': 'stop',\n",
       " 'logprobs': None}"
      ]
     },
     "execution_count": 10,
     "metadata": {},
     "output_type": "execute_result"
    }
   ],
   "source": [
    "result.response_metadata"
   ]
  },
  {
   "cell_type": "markdown",
   "id": "1f4798a1",
   "metadata": {},
   "source": [
    "### Tools\n",
    "* ``Tools`` are needed whenever you want a model to control of your code or call any external APIs.\n",
    "* Many LLM providers support tool calling\n",
    "* You can specify python function into `ChatModel.bind_tools()`"
   ]
  },
  {
   "cell_type": "code",
   "execution_count": 11,
   "id": "0e2058df",
   "metadata": {},
   "outputs": [
    {
     "data": {
      "text/plain": [
       "AIMessage(content='', additional_kwargs={'tool_calls': [{'id': 'call_nriMaJ0nGtyZc6Ca1IIIECLx', 'function': {'arguments': '{\"a\":2,\"b\":3}', 'name': 'multiply'}, 'type': 'function'}], 'refusal': None}, response_metadata={'token_usage': {'completion_tokens': 17, 'prompt_tokens': 63, 'total_tokens': 80, 'completion_tokens_details': {'accepted_prediction_tokens': 0, 'audio_tokens': 0, 'reasoning_tokens': 0, 'rejected_prediction_tokens': 0}, 'prompt_tokens_details': {'audio_tokens': 0, 'cached_tokens': 0}}, 'model_name': 'gpt-4o-mini-2024-07-18', 'system_fingerprint': 'fp_54eb4bd693', 'id': 'chatcmpl-Bb73eeLAommH2Af0i8irifBO12RMC', 'service_tier': 'default', 'finish_reason': 'tool_calls', 'logprobs': None}, id='run--637e1da9-97b3-4a25-b0fe-d0087fe2e443-0', tool_calls=[{'name': 'multiply', 'args': {'a': 2, 'b': 3}, 'id': 'call_nriMaJ0nGtyZc6Ca1IIIECLx', 'type': 'tool_call'}], usage_metadata={'input_tokens': 63, 'output_tokens': 17, 'total_tokens': 80, 'input_token_details': {'audio': 0, 'cache_read': 0}, 'output_token_details': {'audio': 0, 'reasoning': 0}})"
      ]
     },
     "execution_count": 11,
     "metadata": {},
     "output_type": "execute_result"
    }
   ],
   "source": [
    "def multiply(a: int, b: int) -> int:\n",
    "    \"\"\"\n",
    "    Multiply a and b.\n",
    "\n",
    "    Args:\n",
    "        a: first int\n",
    "        b: second int\n",
    "    \"\"\"\n",
    "    return a * b\n",
    "\n",
    "# Tools creation\n",
    "tools =[multiply]\n",
    "\n",
    "# Tool binding\n",
    "llm_with_tools = llm.bind_tools(tools)\n",
    "\n",
    "# Tool calling\n",
    "response = llm_with_tools.invoke([HumanMessage(content=\"what is 2 multipled by 3\", name=\"bob\")])\n",
    "response\n"
   ]
  },
  {
   "cell_type": "code",
   "execution_count": 12,
   "id": "e25994f7",
   "metadata": {},
   "outputs": [
    {
     "data": {
      "text/plain": [
       "[{'id': 'call_nriMaJ0nGtyZc6Ca1IIIECLx',\n",
       "  'function': {'arguments': '{\"a\":2,\"b\":3}', 'name': 'multiply'},\n",
       "  'type': 'function'}]"
      ]
     },
     "execution_count": 12,
     "metadata": {},
     "output_type": "execute_result"
    }
   ],
   "source": [
    "response.additional_kwargs['tool_calls']"
   ]
  },
  {
   "cell_type": "code",
   "execution_count": 13,
   "id": "4ff9973b",
   "metadata": {},
   "outputs": [
    {
     "data": {
      "text/plain": [
       "{'completion_tokens': 17,\n",
       " 'prompt_tokens': 63,\n",
       " 'total_tokens': 80,\n",
       " 'completion_tokens_details': {'accepted_prediction_tokens': 0,\n",
       "  'audio_tokens': 0,\n",
       "  'reasoning_tokens': 0,\n",
       "  'rejected_prediction_tokens': 0},\n",
       " 'prompt_tokens_details': {'audio_tokens': 0, 'cached_tokens': 0}}"
      ]
     },
     "execution_count": 13,
     "metadata": {},
     "output_type": "execute_result"
    }
   ],
   "source": [
    "response.response_metadata['token_usage']"
   ]
  },
  {
   "cell_type": "markdown",
   "id": "000e6980",
   "metadata": {},
   "source": [
    "### Messages as State\n",
    "* You can define state using `MessageState`."
   ]
  },
  {
   "cell_type": "code",
   "execution_count": 14,
   "id": "a6e09a02",
   "metadata": {},
   "outputs": [],
   "source": [
    "from typing import Annotated, TypedDict\n",
    "from langchain_core.messages import AnyMessage\n",
    "from langgraph.graph.message import add_messages\n",
    "\n",
    "class MessageState(TypedDict):\n",
    "    messages: Annotated[list[AnyMessage], add_messages]"
   ]
  },
  {
   "cell_type": "markdown",
   "id": "5a149ec1",
   "metadata": {},
   "source": [
    "* LangGraph has a pre-built `MessageState` Class\n",
    "    * with a pre-build single `message` key.\n",
    "    * which is a list of `AnyMessage` objects and uses the `add_messages` reducer."
   ]
  },
  {
   "cell_type": "code",
   "execution_count": 15,
   "id": "8fc0be86",
   "metadata": {},
   "outputs": [],
   "source": [
    "from langgraph.graph import MessagesState\n",
    "\n",
    "class State(MessagesState):\n",
    "    pass"
   ]
  },
  {
   "cell_type": "markdown",
   "id": "a681ab00",
   "metadata": {},
   "source": [
    "### Build Graph\n",
    "Create a graph with chain of `chat Messages`, `Chat Model`, `Message State`, `Binding Tools`, and `Execute tools`. "
   ]
  },
  {
   "cell_type": "code",
   "execution_count": 5,
   "id": "95e66ed0",
   "metadata": {},
   "outputs": [
    {
     "data": {
      "image/png": "[encoded data removed]",
      "text/plain": [
       "<IPython.core.display.Image object>"
      ]
     },
     "metadata": {},
     "output_type": "display_data"
    }
   ],
   "source": [
    "from IPython.display import Image, display\n",
    "from langchain_core.messages import HumanMessage, SystemMessage\n",
    "from langgraph.graph import MessagesState, StateGraph, START, END\n",
    "\n",
    "# define node\n",
    "def tool_calling_node(state: MessagesState):\n",
    "    return {\"messages\": [llm_with_tools.invoke(state[\"messages\"])]}\n",
    "\n",
    "\n",
    "# build graph\n",
    "builder = StateGraph(MessagesState)\n",
    "builder.add_node(\"tool_calling_llm\", tool_calling_node)\n",
    "\n",
    "builder.add_edge(START, \"tool_calling_llm\")\n",
    "builder.add_edge(\"tool_calling_llm\", END)\n",
    "\n",
    "graph = builder.compile()\n",
    "\n",
    "# view graph\n",
    "display(Image(graph.get_graph().draw_mermaid_png()))"
   ]
  },
  {
   "cell_type": "code",
   "execution_count": 15,
   "id": "3c5adfe5",
   "metadata": {},
   "outputs": [
    {
     "data": {
      "text/plain": [
       "{'messages': [HumanMessage(content='Hi', additional_kwargs={}, response_metadata={}, name='nancy', id='f2d8e83c-0571-45e2-a308-859c7bdec676'),\n",
       "  AIMessage(content='Hello! How can I assist you today?', additional_kwargs={'refusal': None}, response_metadata={'token_usage': {'completion_tokens': 10, 'prompt_tokens': 55, 'total_tokens': 65, 'completion_tokens_details': {'accepted_prediction_tokens': 0, 'audio_tokens': 0, 'reasoning_tokens': 0, 'rejected_prediction_tokens': 0}, 'prompt_tokens_details': {'audio_tokens': 0, 'cached_tokens': 0}}, 'model_name': 'gpt-4o-mini-2024-07-18', 'system_fingerprint': 'fp_54eb4bd693', 'id': 'chatcmpl-Bb73vop2AXGmLzUwERPYegTyRyI6R', 'service_tier': 'default', 'finish_reason': 'stop', 'logprobs': None}, id='run--9e2e2215-2e22-4530-a884-c743b555b1c0-0', usage_metadata={'input_tokens': 55, 'output_tokens': 10, 'total_tokens': 65, 'input_token_details': {'audio': 0, 'cache_read': 0}, 'output_token_details': {'audio': 0, 'reasoning': 0}})]}"
      ]
     },
     "execution_count": 15,
     "metadata": {},
     "output_type": "execute_result"
    }
   ],
   "source": [
    "graph.invoke({\"messages\": [HumanMessage(content=\"Hi\", name=\"nancy\")]})"
   ]
  },
  {
   "cell_type": "code",
   "execution_count": 16,
   "id": "60d7abc6",
   "metadata": {},
   "outputs": [
    {
     "data": {
      "text/plain": [
       "{'messages': [HumanMessage(content='Multiply 2 and 3', additional_kwargs={}, response_metadata={}, name='nancy', id='2fdfe05b-84e2-44e0-821f-76c837e0097e'),\n",
       "  AIMessage(content='', additional_kwargs={'tool_calls': [{'id': 'call_AJpTiIFXpFmMiHJoruoqZKrW', 'function': {'arguments': '{\"a\":2,\"b\":3}', 'name': 'multiply'}, 'type': 'function'}], 'refusal': None}, response_metadata={'token_usage': {'completion_tokens': 17, 'prompt_tokens': 60, 'total_tokens': 77, 'completion_tokens_details': {'accepted_prediction_tokens': 0, 'audio_tokens': 0, 'reasoning_tokens': 0, 'rejected_prediction_tokens': 0}, 'prompt_tokens_details': {'audio_tokens': 0, 'cached_tokens': 0}}, 'model_name': 'gpt-4o-mini-2024-07-18', 'system_fingerprint': 'fp_54eb4bd693', 'id': 'chatcmpl-Bb74si157fkbxflkXHUfd2WJDGt1u', 'service_tier': 'default', 'finish_reason': 'tool_calls', 'logprobs': None}, id='run--eb1dd4cf-beaf-4b93-a83f-9102784b4d66-0', tool_calls=[{'name': 'multiply', 'args': {'a': 2, 'b': 3}, 'id': 'call_AJpTiIFXpFmMiHJoruoqZKrW', 'type': 'tool_call'}], usage_metadata={'input_tokens': 60, 'output_tokens': 17, 'total_tokens': 77, 'input_token_details': {'audio': 0, 'cache_read': 0}, 'output_token_details': {'audio': 0, 'reasoning': 0}})]}"
      ]
     },
     "execution_count": 16,
     "metadata": {},
     "output_type": "execute_result"
    }
   ],
   "source": [
    "graph.invoke({\"messages\": [HumanMessage(content=\"Multiply 2 and 3\", name=\"nancy\")]})"
   ]
  },
  {
   "cell_type": "markdown",
   "id": "82373610",
   "metadata": {},
   "source": [
    "## 1.3 Router\n",
    "\n",
    "Router where the chat model routes between a direct llm response or tool call based upon the user input."
   ]
  },
  {
   "cell_type": "markdown",
   "id": "d020fd0e",
   "metadata": {},
   "source": [
    "* The `ToolNode` is built-in Class to simply pass a list of tools to initialize it.\n",
    "* The `tool_condition` is built-in function which use as conditional edge"
   ]
  },
  {
   "cell_type": "code",
   "execution_count": 27,
   "id": "c7f1806e",
   "metadata": {},
   "outputs": [],
   "source": [
    "from langchain_openai import ChatOpenAI\n",
    "from langchain_core.messages import HumanMessage\n",
    "from langgraph.graph import MessagesState, StateGraph, START, END\n",
    "\n",
    "llm = ChatOpenAI(\n",
    "    model=\"gpt-4o-mini\",\n",
    "    temperature=0, \n",
    ")\n",
    "\n",
    "# Define tool\n",
    "def multiply(a: int, b: int) -> int:\n",
    "    \"\"\"\n",
    "    Multiply a and b.\n",
    "\n",
    "    Args:\n",
    "        a: first int\n",
    "        b: second int\n",
    "    \"\"\"\n",
    "    return a * b\n",
    "\n",
    "# Bind tools\n",
    "llm_with_tools = llm.bind_tools([multiply])\n"
   ]
  },
  {
   "cell_type": "code",
   "execution_count": 22,
   "id": "5dd56eb7",
   "metadata": {},
   "outputs": [
    {
     "data": {
      "image/png": "[encoded data removed]",
      "text/plain": [
       "<IPython.core.display.Image object>"
      ]
     },
     "metadata": {},
     "output_type": "display_data"
    }
   ],
   "source": [
    "from langgraph.prebuilt import ToolNode\n",
    "from langgraph.prebuilt import tools_condition\n",
    "\n",
    "# Define node\n",
    "def tool_calling_node(state: MessagesState):\n",
    "    return {\"messages\": [llm_with_tools.invoke(state[\"messages\"])]}\n",
    "\n",
    "builder = StateGraph(MessagesState)\n",
    "\n",
    "builder.add_node(\"tool_calling_llm\", tool_calling_node)\n",
    "builder.add_node(\"tools\", ToolNode([multiply]))\n",
    "\n",
    "builder.add_edge(START, \"tool_calling_llm\")\n",
    "builder.add_conditional_edges(\n",
    "    \"tool_calling_llm\",\n",
    "    tools_condition\n",
    ")\n",
    "builder.add_edge(\"tools\", END)\n",
    "\n",
    "graph = builder.compile()\n",
    "\n",
    "# view\n",
    "display(Image(graph.get_graph().draw_mermaid_png()))"
   ]
  },
  {
   "cell_type": "code",
   "execution_count": 25,
   "id": "30d77115",
   "metadata": {},
   "outputs": [
    {
     "name": "stdout",
     "output_type": "stream",
     "text": [
      "================================\u001b[1m Human Message \u001b[0m=================================\n",
      "\n",
      "Multiply 3 and 5\n",
      "==================================\u001b[1m Ai Message \u001b[0m==================================\n",
      "Tool Calls:\n",
      "  multiply (call_C5MXnhCEnELzhvJgYg69xGfB)\n",
      " Call ID: call_C5MXnhCEnELzhvJgYg69xGfB\n",
      "  Args:\n",
      "    a: 3\n",
      "    b: 5\n",
      "=================================\u001b[1m Tool Message \u001b[0m=================================\n",
      "Name: multiply\n",
      "\n",
      "15\n"
     ]
    }
   ],
   "source": [
    "result = graph.invoke({\"messages\": [HumanMessage(content=\"Multiply 3 and 5\")]})\n",
    "\n",
    "for m in result[\"messages\"]:\n",
    "    m.pretty_print()"
   ]
  },
  {
   "cell_type": "code",
   "execution_count": 26,
   "id": "4ee7f217",
   "metadata": {},
   "outputs": [
    {
     "name": "stdout",
     "output_type": "stream",
     "text": [
      "================================\u001b[1m Human Message \u001b[0m=================================\n",
      "\n",
      "Hi\n",
      "==================================\u001b[1m Ai Message \u001b[0m==================================\n",
      "\n",
      "Hello! How can I assist you today?\n"
     ]
    }
   ],
   "source": [
    "result = graph.invoke({\"messages\": [HumanMessage(content=\"Hi\")]})\n",
    "\n",
    "for m in result[\"messages\"]:\n",
    "    m.pretty_print()"
   ]
  },
  {
   "cell_type": "markdown",
   "id": "917acce5",
   "metadata": {},
   "source": [
    "## 1.4 Agent"
   ]
  }
 ],
 "metadata": {
  "kernelspec": {
   "display_name": ".venv",
   "language": "python",
   "name": "python3"
  },
  "language_info": {
   "codemirror_mode": {
    "name": "ipython",
    "version": 3
   },
   "file_extension": ".py",
   "mimetype": "text/x-python",
   "name": "python",
   "nbconvert_exporter": "python",
   "pygments_lexer": "ipython3",
   "version": "3.13.0"
  }
 },
 "nbformat": 4,
 "nbformat_minor": 5
}
